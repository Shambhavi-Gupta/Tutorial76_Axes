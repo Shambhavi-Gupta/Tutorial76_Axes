{
  "nbformat": 4,
  "nbformat_minor": 0,
  "metadata": {
    "colab": {
      "name": "Tutorial76_Axes.ipynb",
      "provenance": [],
      "authorship_tag": "ABX9TyNvr1msw6ddl1Od3scj0A5Z",
      "include_colab_link": true
    },
    "kernelspec": {
      "name": "python3",
      "display_name": "Python 3"
    }
  },
  "cells": [
    {
      "cell_type": "markdown",
      "metadata": {
        "id": "view-in-github",
        "colab_type": "text"
      },
      "source": [
        "<a href=\"https://colab.research.google.com/github/Shambhavi-Gupta/Tutorial76_Axes/blob/main/Tutorial76_Axes.ipynb\" target=\"_parent\"><img src=\"https://colab.research.google.com/assets/colab-badge.svg\" alt=\"Open In Colab\"/></a>"
      ]
    },
    {
      "cell_type": "code",
      "metadata": {
        "id": "ywpoAnbvXGUW"
      },
      "source": [
        "import numpy as np\r\n",
        "#help(np.transpose)\r\n",
        "# a = np.arange(1,11).reshape(5,2)\r\n",
        "# #print(a)\r\n",
        "# print(np.transpose(a, axes=(1,0)).shape)\r\n",
        "# print(np.transpose(a, axes=(0,1)).shape)\r\n",
        "\r\n",
        "b = np.arange(1,25).reshape(2,3,4)\r\n",
        "# axis0 =2\r\n",
        "# axis1 = 3\r\n",
        "# axis2 = 4\r\n",
        "\r\n",
        "print(b)\r\n",
        "print(b.shape)\r\n",
        "#print(np.transpose(b))\r\n",
        "#print(np.transpose(b).shape)\r\n",
        "print(np.transpose(b,(1,2,0)).shape)"
      ],
      "execution_count": null,
      "outputs": []
    }
  ]
}